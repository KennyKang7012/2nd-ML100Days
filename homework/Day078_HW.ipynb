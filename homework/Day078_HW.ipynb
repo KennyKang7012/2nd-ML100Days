{
 "cells": [
  {
   "cell_type": "markdown",
   "metadata": {},
   "source": [
    "## Work\n",
    "1. 請嘗試將 preproc_x 替換成以每筆資料的 min/max 進行標準化至 -1 ~ 1 間，再進行訓練\n",
    "2. 請嘗試將 mlp 疊更深 (e.g 5~10 層)，進行訓練後觀察 learning curve 的走勢\n",
    "3. (optional) 請改用 GPU 進行訓練 (如果你有 GPU 的話)，比較使用 CPU 與 GPU 的訓練速度"
   ]
  },
  {
   "cell_type": "code",
   "execution_count": null,
   "metadata": {},
   "outputs": [],
   "source": [
    "## \n",
    "\"\"\"\n",
    "Your code here (optional)\n",
    "確認硬體資源\n",
    "\"\"\"\n",
    "#!nvidia-smi"
   ]
  },
  {
   "cell_type": "code",
   "execution_count": 1,
   "metadata": {},
   "outputs": [
    {
     "name": "stderr",
     "output_type": "stream",
     "text": [
      "Using TensorFlow backend.\n"
     ]
    }
   ],
   "source": [
    "import os\n",
    "import keras\n",
    "import numpy as np\n",
    "\n",
    "# 請嘗試設定 GPU：os.environ\n",
    "os.environ[\"CUDA_VISIBLE_DEVICES\"] = \"0\""
   ]
  },
  {
   "cell_type": "code",
   "execution_count": 2,
   "metadata": {},
   "outputs": [],
   "source": [
    "train, test = keras.datasets.cifar10.load_data()"
   ]
  },
  {
   "cell_type": "code",
   "execution_count": 3,
   "metadata": {},
   "outputs": [],
   "source": [
    "## 資料前處理\n",
    "\"\"\"\n",
    "Your code here\n",
    "\"\"\"\n",
    "def preproc_x(x, flatten=True):\n",
    "    x = 2*(((x - x.min()) / (x.max() - x.min()))-0.5)\n",
    "    if flatten:\n",
    "        x = x.reshape((len(x), -1))\n",
    "    return x\n",
    "\n",
    "def preproc_y(y, num_classes=10):\n",
    "    if y.shape[-1] == 1:\n",
    "        y = keras.utils.to_categorical(y, num_classes)\n",
    "    return y"
   ]
  },
  {
   "cell_type": "code",
   "execution_count": 4,
   "metadata": {},
   "outputs": [
    {
     "name": "stdout",
     "output_type": "stream",
     "text": [
      " x_train min :  -1.0\n",
      " x_train max :  1.0\n"
     ]
    }
   ],
   "source": [
    "x_train, y_train = train\n",
    "x_test, y_test = test\n",
    "\n",
    "# Preproc the inputs\n",
    "x_train = preproc_x(x_train)\n",
    "x_test = preproc_x(x_test)\n",
    "print(\" x_train min : \", np.min(x_train))\n",
    "print(\" x_train max : \", np.max(x_train))\n",
    "\n",
    "# Preprc the outputs\n",
    "y_train = preproc_y(y_train)\n",
    "y_test = preproc_y(y_test)"
   ]
  },
  {
   "cell_type": "code",
   "execution_count": 5,
   "metadata": {},
   "outputs": [
    {
     "name": "stdout",
     "output_type": "stream",
     "text": [
      "_________________________________________________________________\n",
      "Layer (type)                 Output Shape              Param #   \n",
      "=================================================================\n",
      "input_1 (InputLayer)         (None, 3072)              0         \n",
      "_________________________________________________________________\n",
      "hidden_layer1 (Dense)        (None, 512)               1573376   \n",
      "_________________________________________________________________\n",
      "hidden_layer2 (Dense)        (None, 256)               131328    \n",
      "_________________________________________________________________\n",
      "hidden_layer3 (Dense)        (None, 128)               32896     \n",
      "_________________________________________________________________\n",
      "hidden_layer4 (Dense)        (None, 64)                8256      \n",
      "_________________________________________________________________\n",
      "hidden_layer5 (Dense)        (None, 64)                4160      \n",
      "_________________________________________________________________\n",
      "output (Dense)               (None, 10)                650       \n",
      "=================================================================\n",
      "Total params: 1,750,666\n",
      "Trainable params: 1,750,666\n",
      "Non-trainable params: 0\n",
      "_________________________________________________________________\n"
     ]
    }
   ],
   "source": [
    "\"\"\"Code Here\n",
    "建立你的神經網路\n",
    "\"\"\"\n",
    "def build_mlp(input_shape, output_units=10, num_neurons=[512, 256, 128, 64, 64]):\n",
    "    input_layer = keras.layers.Input(input_shape)\n",
    "    \n",
    "    for i, n_units in enumerate(num_neurons):\n",
    "        if i == 0:\n",
    "            x = keras.layers.Dense(units=n_units, activation=\"relu\", name=\"hidden_layer\"+str(i+1))(input_layer)\n",
    "        else:\n",
    "            x = keras.layers.Dense(units=n_units, activation=\"relu\", name=\"hidden_layer\"+str(i+1))(x)\n",
    "    \n",
    "    out = keras.layers.Dense(units=output_units, activation=\"softmax\", name=\"output\")(x)\n",
    "    \n",
    "    model = keras.models.Model(inputs=[input_layer], outputs=[out])\n",
    "    return model\n",
    "\n",
    "model = build_mlp(input_shape=x_train.shape[1:])\n",
    "\n",
    "model.summary()"
   ]
  },
  {
   "cell_type": "code",
   "execution_count": 6,
   "metadata": {},
   "outputs": [],
   "source": [
    "## 超參數設定\n",
    "LEARNING_RATE = 0.001\n",
    "EPOCHS = 100\n",
    "BATCH_SIZE = 256"
   ]
  },
  {
   "cell_type": "code",
   "execution_count": 7,
   "metadata": {},
   "outputs": [],
   "source": [
    "optimizer = keras.optimizers.Adam(lr=LEARNING_RATE)\n",
    "model.compile(loss=\"categorical_crossentropy\", metrics=[\"accuracy\"], optimizer=optimizer)"
   ]
  },
  {
   "cell_type": "code",
   "execution_count": 8,
   "metadata": {},
   "outputs": [
    {
     "name": "stdout",
     "output_type": "stream",
     "text": [
      "Train on 50000 samples, validate on 10000 samples\n",
      "Epoch 1/100\n",
      "50000/50000 [==============================] - 5s 106us/step - loss: 1.7080 - acc: 0.3950 - val_loss: 1.5448 - val_acc: 0.4534\n",
      "Epoch 2/100\n",
      "50000/50000 [==============================] - 3s 60us/step - loss: 1.4761 - acc: 0.4798 - val_loss: 1.4529 - val_acc: 0.4870\n",
      "Epoch 3/100\n",
      "50000/50000 [==============================] - 3s 62us/step - loss: 1.3548 - acc: 0.5214 - val_loss: 1.4038 - val_acc: 0.5019\n",
      "Epoch 4/100\n",
      "50000/50000 [==============================] - 3s 61us/step - loss: 1.2648 - acc: 0.5513 - val_loss: 1.3860 - val_acc: 0.5148\n",
      "Epoch 5/100\n",
      "50000/50000 [==============================] - 3s 61us/step - loss: 1.1797 - acc: 0.5837 - val_loss: 1.3967 - val_acc: 0.5219\n",
      "Epoch 6/100\n",
      "50000/50000 [==============================] - 3s 61us/step - loss: 1.1031 - acc: 0.6099 - val_loss: 1.3847 - val_acc: 0.5252\n",
      "Epoch 7/100\n",
      "50000/50000 [==============================] - 3s 61us/step - loss: 1.0298 - acc: 0.6354 - val_loss: 1.4195 - val_acc: 0.5225\n",
      "Epoch 8/100\n",
      "50000/50000 [==============================] - 3s 63us/step - loss: 0.9622 - acc: 0.6617 - val_loss: 1.3939 - val_acc: 0.5323\n",
      "Epoch 9/100\n",
      "50000/50000 [==============================] - 3s 61us/step - loss: 0.8919 - acc: 0.6825 - val_loss: 1.4184 - val_acc: 0.5402\n",
      "Epoch 10/100\n",
      "50000/50000 [==============================] - 3s 61us/step - loss: 0.8266 - acc: 0.7072 - val_loss: 1.4570 - val_acc: 0.5249\n",
      "Epoch 11/100\n",
      "50000/50000 [==============================] - 3s 62us/step - loss: 0.7534 - acc: 0.7333 - val_loss: 1.4916 - val_acc: 0.5365\n",
      "Epoch 12/100\n",
      "50000/50000 [==============================] - 3s 63us/step - loss: 0.7002 - acc: 0.7518 - val_loss: 1.5597 - val_acc: 0.5356\n",
      "Epoch 13/100\n",
      "50000/50000 [==============================] - 3s 63us/step - loss: 0.6303 - acc: 0.7762 - val_loss: 1.6480 - val_acc: 0.5356\n",
      "Epoch 14/100\n",
      "50000/50000 [==============================] - 3s 58us/step - loss: 0.5947 - acc: 0.7891 - val_loss: 1.6915 - val_acc: 0.5309\n",
      "Epoch 15/100\n",
      "50000/50000 [==============================] - 3s 59us/step - loss: 0.5345 - acc: 0.8090 - val_loss: 1.7599 - val_acc: 0.5266\n",
      "Epoch 16/100\n",
      "50000/50000 [==============================] - 3s 58us/step - loss: 0.4981 - acc: 0.8249 - val_loss: 1.8424 - val_acc: 0.5218\n",
      "Epoch 17/100\n",
      "50000/50000 [==============================] - 3s 59us/step - loss: 0.4526 - acc: 0.8392 - val_loss: 1.9793 - val_acc: 0.5359\n",
      "Epoch 18/100\n",
      "50000/50000 [==============================] - 3s 58us/step - loss: 0.4157 - acc: 0.8550 - val_loss: 2.1744 - val_acc: 0.5245\n",
      "Epoch 19/100\n",
      "50000/50000 [==============================] - 3s 62us/step - loss: 0.3964 - acc: 0.8614 - val_loss: 2.0682 - val_acc: 0.5299\n",
      "Epoch 20/100\n",
      "50000/50000 [==============================] - 3s 66us/step - loss: 0.3545 - acc: 0.8741 - val_loss: 2.1961 - val_acc: 0.5330\n",
      "Epoch 21/100\n",
      "50000/50000 [==============================] - 3s 60us/step - loss: 0.3296 - acc: 0.8840 - val_loss: 2.3460 - val_acc: 0.5263\n",
      "Epoch 22/100\n",
      "50000/50000 [==============================] - 3s 60us/step - loss: 0.3039 - acc: 0.8934 - val_loss: 2.3840 - val_acc: 0.5283\n",
      "Epoch 23/100\n",
      "50000/50000 [==============================] - 3s 65us/step - loss: 0.2815 - acc: 0.9016 - val_loss: 2.3712 - val_acc: 0.5256\n",
      "Epoch 24/100\n",
      "50000/50000 [==============================] - 3s 60us/step - loss: 0.2689 - acc: 0.9060 - val_loss: 2.5888 - val_acc: 0.5184\n",
      "Epoch 25/100\n",
      "50000/50000 [==============================] - 3s 65us/step - loss: 0.2554 - acc: 0.9102 - val_loss: 2.5810 - val_acc: 0.5238\n",
      "Epoch 26/100\n",
      "50000/50000 [==============================] - 3s 65us/step - loss: 0.2510 - acc: 0.9143 - val_loss: 2.6624 - val_acc: 0.5248\n",
      "Epoch 27/100\n",
      "50000/50000 [==============================] - 3s 62us/step - loss: 0.2195 - acc: 0.9224 - val_loss: 2.7931 - val_acc: 0.5253\n",
      "Epoch 28/100\n",
      "50000/50000 [==============================] - 3s 63us/step - loss: 0.2226 - acc: 0.9217 - val_loss: 2.7563 - val_acc: 0.5316\n",
      "Epoch 29/100\n",
      "50000/50000 [==============================] - 3s 63us/step - loss: 0.2030 - acc: 0.9289 - val_loss: 2.8756 - val_acc: 0.5242\n",
      "Epoch 30/100\n",
      "50000/50000 [==============================] - 3s 61us/step - loss: 0.2005 - acc: 0.9313 - val_loss: 2.8505 - val_acc: 0.5223\n",
      "Epoch 31/100\n",
      "50000/50000 [==============================] - 3s 62us/step - loss: 0.2062 - acc: 0.9282 - val_loss: 2.8932 - val_acc: 0.5230\n",
      "Epoch 32/100\n",
      "50000/50000 [==============================] - 3s 60us/step - loss: 0.1751 - acc: 0.9389 - val_loss: 3.0366 - val_acc: 0.5225\n",
      "Epoch 33/100\n",
      "50000/50000 [==============================] - 3s 62us/step - loss: 0.1782 - acc: 0.9387 - val_loss: 3.0222 - val_acc: 0.5226\n",
      "Epoch 34/100\n",
      "50000/50000 [==============================] - 3s 60us/step - loss: 0.1788 - acc: 0.9377 - val_loss: 3.0478 - val_acc: 0.5240\n",
      "Epoch 35/100\n",
      "50000/50000 [==============================] - 3s 64us/step - loss: 0.1652 - acc: 0.9424 - val_loss: 3.1144 - val_acc: 0.5208\n",
      "Epoch 36/100\n",
      "50000/50000 [==============================] - 3s 63us/step - loss: 0.1617 - acc: 0.9454 - val_loss: 3.1740 - val_acc: 0.5225\n",
      "Epoch 37/100\n",
      "50000/50000 [==============================] - 3s 69us/step - loss: 0.1633 - acc: 0.9452 - val_loss: 3.1898 - val_acc: 0.5193\n",
      "Epoch 38/100\n",
      "50000/50000 [==============================] - 3s 66us/step - loss: 0.1632 - acc: 0.9442 - val_loss: 3.1946 - val_acc: 0.5279\n",
      "Epoch 39/100\n",
      "50000/50000 [==============================] - 3s 60us/step - loss: 0.1339 - acc: 0.9546 - val_loss: 3.3275 - val_acc: 0.5252\n",
      "Epoch 40/100\n",
      "50000/50000 [==============================] - 3s 64us/step - loss: 0.1504 - acc: 0.9483 - val_loss: 3.2813 - val_acc: 0.5250\n",
      "Epoch 41/100\n",
      "50000/50000 [==============================] - 4s 70us/step - loss: 0.1330 - acc: 0.9534 - val_loss: 3.3950 - val_acc: 0.5248\n",
      "Epoch 42/100\n",
      "50000/50000 [==============================] - 3s 67us/step - loss: 0.1528 - acc: 0.9483 - val_loss: 3.3645 - val_acc: 0.5148\n",
      "Epoch 43/100\n",
      "50000/50000 [==============================] - 3s 62us/step - loss: 0.1487 - acc: 0.9491 - val_loss: 3.3046 - val_acc: 0.5271\n",
      "Epoch 44/100\n",
      "50000/50000 [==============================] - 3s 59us/step - loss: 0.1261 - acc: 0.9575 - val_loss: 3.4215 - val_acc: 0.5186\n",
      "Epoch 45/100\n",
      "50000/50000 [==============================] - 3s 60us/step - loss: 0.1360 - acc: 0.9552 - val_loss: 3.4563 - val_acc: 0.5166\n",
      "Epoch 46/100\n",
      "50000/50000 [==============================] - 3s 63us/step - loss: 0.1254 - acc: 0.9570 - val_loss: 3.4298 - val_acc: 0.5324\n",
      "Epoch 47/100\n",
      "50000/50000 [==============================] - 3s 64us/step - loss: 0.1324 - acc: 0.9544 - val_loss: 3.4214 - val_acc: 0.5179\n",
      "Epoch 48/100\n",
      "50000/50000 [==============================] - 3s 62us/step - loss: 0.1360 - acc: 0.9539 - val_loss: 3.3207 - val_acc: 0.5219\n",
      "Epoch 49/100\n",
      "50000/50000 [==============================] - 3s 61us/step - loss: 0.1080 - acc: 0.9640 - val_loss: 3.4519 - val_acc: 0.5326\n",
      "Epoch 50/100\n",
      "50000/50000 [==============================] - 3s 61us/step - loss: 0.1021 - acc: 0.9658 - val_loss: 3.5303 - val_acc: 0.5234\n",
      "Epoch 51/100\n",
      "50000/50000 [==============================] - 3s 60us/step - loss: 0.1184 - acc: 0.9600 - val_loss: 3.4852 - val_acc: 0.5157\n",
      "Epoch 52/100\n",
      "50000/50000 [==============================] - 3s 60us/step - loss: 0.1158 - acc: 0.9618 - val_loss: 3.6541 - val_acc: 0.5195\n",
      "Epoch 53/100\n",
      "50000/50000 [==============================] - 3s 61us/step - loss: 0.1102 - acc: 0.9632 - val_loss: 3.5626 - val_acc: 0.5234\n",
      "Epoch 54/100\n",
      "50000/50000 [==============================] - 3s 62us/step - loss: 0.0928 - acc: 0.9696 - val_loss: 3.6327 - val_acc: 0.5260\n",
      "Epoch 55/100\n",
      "50000/50000 [==============================] - 3s 62us/step - loss: 0.1369 - acc: 0.9536 - val_loss: 3.4795 - val_acc: 0.5237\n",
      "Epoch 56/100\n",
      "50000/50000 [==============================] - 4s 77us/step - loss: 0.1129 - acc: 0.9630 - val_loss: 3.5227 - val_acc: 0.5287\n",
      "Epoch 57/100\n",
      "50000/50000 [==============================] - 4s 74us/step - loss: 0.1164 - acc: 0.9613 - val_loss: 3.5525 - val_acc: 0.5319\n",
      "Epoch 58/100\n",
      "50000/50000 [==============================] - 4s 75us/step - loss: 0.0931 - acc: 0.9686 - val_loss: 3.6342 - val_acc: 0.5358\n",
      "Epoch 59/100\n"
     ]
    },
    {
     "name": "stdout",
     "output_type": "stream",
     "text": [
      "50000/50000 [==============================] - 4s 72us/step - loss: 0.0859 - acc: 0.9716 - val_loss: 3.7414 - val_acc: 0.5214\n",
      "Epoch 60/100\n",
      "50000/50000 [==============================] - 3s 65us/step - loss: 0.1248 - acc: 0.9591 - val_loss: 3.6951 - val_acc: 0.5285\n",
      "Epoch 61/100\n",
      "50000/50000 [==============================] - 3s 64us/step - loss: 0.0945 - acc: 0.9681 - val_loss: 3.6227 - val_acc: 0.5214\n",
      "Epoch 62/100\n",
      "50000/50000 [==============================] - 3s 63us/step - loss: 0.0862 - acc: 0.9713 - val_loss: 3.7984 - val_acc: 0.5214\n",
      "Epoch 63/100\n",
      "50000/50000 [==============================] - 3s 64us/step - loss: 0.0929 - acc: 0.9687 - val_loss: 3.7275 - val_acc: 0.5280\n",
      "Epoch 64/100\n",
      "50000/50000 [==============================] - 3s 62us/step - loss: 0.1005 - acc: 0.9674 - val_loss: 3.6669 - val_acc: 0.5223\n",
      "Epoch 65/100\n",
      "50000/50000 [==============================] - 3s 65us/step - loss: 0.0944 - acc: 0.9690 - val_loss: 3.8425 - val_acc: 0.5248\n",
      "Epoch 66/100\n",
      "50000/50000 [==============================] - 4s 87us/step - loss: 0.1042 - acc: 0.9656 - val_loss: 3.6837 - val_acc: 0.5289\n",
      "Epoch 67/100\n",
      "50000/50000 [==============================] - 3s 64us/step - loss: 0.1025 - acc: 0.9670 - val_loss: 3.7394 - val_acc: 0.5237\n",
      "Epoch 68/100\n",
      "50000/50000 [==============================] - 3s 63us/step - loss: 0.0735 - acc: 0.9757 - val_loss: 3.8073 - val_acc: 0.5304\n",
      "Epoch 69/100\n",
      "50000/50000 [==============================] - 3s 63us/step - loss: 0.1022 - acc: 0.9670 - val_loss: 3.6261 - val_acc: 0.5242\n",
      "Epoch 70/100\n",
      "50000/50000 [==============================] - 3s 64us/step - loss: 0.0998 - acc: 0.9676 - val_loss: 3.6611 - val_acc: 0.5249\n",
      "Epoch 71/100\n",
      "50000/50000 [==============================] - 3s 63us/step - loss: 0.0849 - acc: 0.9719 - val_loss: 3.7406 - val_acc: 0.5209\n",
      "Epoch 72/100\n",
      "50000/50000 [==============================] - 3s 60us/step - loss: 0.0700 - acc: 0.9760 - val_loss: 3.8856 - val_acc: 0.5332\n",
      "Epoch 73/100\n",
      "50000/50000 [==============================] - 3s 61us/step - loss: 0.0831 - acc: 0.9733 - val_loss: 3.8817 - val_acc: 0.5200\n",
      "Epoch 74/100\n",
      "50000/50000 [==============================] - 3s 61us/step - loss: 0.0829 - acc: 0.9723 - val_loss: 3.8827 - val_acc: 0.5245\n",
      "Epoch 75/100\n",
      "50000/50000 [==============================] - 3s 62us/step - loss: 0.0859 - acc: 0.9722 - val_loss: 3.7570 - val_acc: 0.5225\n",
      "Epoch 76/100\n",
      "50000/50000 [==============================] - 3s 61us/step - loss: 0.0826 - acc: 0.9725 - val_loss: 3.8602 - val_acc: 0.5300\n",
      "Epoch 77/100\n",
      "50000/50000 [==============================] - 3s 62us/step - loss: 0.0889 - acc: 0.9707 - val_loss: 3.9257 - val_acc: 0.5193\n",
      "Epoch 78/100\n",
      "50000/50000 [==============================] - 3s 61us/step - loss: 0.0723 - acc: 0.9756 - val_loss: 3.8220 - val_acc: 0.5288\n",
      "Epoch 79/100\n",
      "50000/50000 [==============================] - 3s 63us/step - loss: 0.0814 - acc: 0.9735 - val_loss: 3.7607 - val_acc: 0.5297\n",
      "Epoch 80/100\n",
      "50000/50000 [==============================] - 3s 61us/step - loss: 0.0732 - acc: 0.9753 - val_loss: 3.8434 - val_acc: 0.5250\n",
      "Epoch 81/100\n",
      "50000/50000 [==============================] - 3s 61us/step - loss: 0.0798 - acc: 0.9741 - val_loss: 3.8632 - val_acc: 0.5258\n",
      "Epoch 82/100\n",
      "50000/50000 [==============================] - 3s 61us/step - loss: 0.0797 - acc: 0.9730 - val_loss: 3.8378 - val_acc: 0.5310\n",
      "Epoch 83/100\n",
      "50000/50000 [==============================] - 3s 60us/step - loss: 0.0705 - acc: 0.9767 - val_loss: 3.8589 - val_acc: 0.5269\n",
      "Epoch 84/100\n",
      "50000/50000 [==============================] - 3s 61us/step - loss: 0.0722 - acc: 0.9777 - val_loss: 3.8706 - val_acc: 0.5229\n",
      "Epoch 85/100\n",
      "50000/50000 [==============================] - 3s 62us/step - loss: 0.0945 - acc: 0.9698 - val_loss: 3.8064 - val_acc: 0.5321\n",
      "Epoch 86/100\n",
      "50000/50000 [==============================] - 3s 62us/step - loss: 0.0682 - acc: 0.9778 - val_loss: 3.9390 - val_acc: 0.5338\n",
      "Epoch 87/100\n",
      "50000/50000 [==============================] - 3s 62us/step - loss: 0.0604 - acc: 0.9808 - val_loss: 3.9740 - val_acc: 0.5175\n",
      "Epoch 88/100\n",
      "50000/50000 [==============================] - 3s 61us/step - loss: 0.0741 - acc: 0.9764 - val_loss: 3.8727 - val_acc: 0.5261\n",
      "Epoch 89/100\n",
      "50000/50000 [==============================] - 3s 61us/step - loss: 0.0689 - acc: 0.9788 - val_loss: 3.9634 - val_acc: 0.5242\n",
      "Epoch 90/100\n",
      "50000/50000 [==============================] - 3s 61us/step - loss: 0.0773 - acc: 0.9751 - val_loss: 3.7875 - val_acc: 0.5312\n",
      "Epoch 91/100\n",
      "50000/50000 [==============================] - 3s 62us/step - loss: 0.0831 - acc: 0.9729 - val_loss: 3.8180 - val_acc: 0.5234\n",
      "Epoch 92/100\n",
      "50000/50000 [==============================] - 3s 60us/step - loss: 0.0636 - acc: 0.9787 - val_loss: 4.0402 - val_acc: 0.5308\n",
      "Epoch 93/100\n",
      "50000/50000 [==============================] - 3s 60us/step - loss: 0.0559 - acc: 0.9829 - val_loss: 4.0339 - val_acc: 0.5293\n",
      "Epoch 94/100\n",
      "50000/50000 [==============================] - 3s 62us/step - loss: 0.0650 - acc: 0.9796 - val_loss: 4.2104 - val_acc: 0.5164\n",
      "Epoch 95/100\n",
      "50000/50000 [==============================] - 3s 63us/step - loss: 0.0743 - acc: 0.9767 - val_loss: 3.9710 - val_acc: 0.5173\n",
      "Epoch 96/100\n",
      "50000/50000 [==============================] - 3s 60us/step - loss: 0.0768 - acc: 0.9753 - val_loss: 3.9216 - val_acc: 0.5226\n",
      "Epoch 97/100\n",
      "50000/50000 [==============================] - 3s 60us/step - loss: 0.0706 - acc: 0.9773 - val_loss: 3.9509 - val_acc: 0.5264\n",
      "Epoch 98/100\n",
      "50000/50000 [==============================] - 3s 61us/step - loss: 0.0436 - acc: 0.9858 - val_loss: 4.1297 - val_acc: 0.5220\n",
      "Epoch 99/100\n",
      "50000/50000 [==============================] - 3s 60us/step - loss: 0.0687 - acc: 0.9782 - val_loss: 4.0550 - val_acc: 0.5211\n",
      "Epoch 100/100\n",
      "50000/50000 [==============================] - 3s 62us/step - loss: 0.0847 - acc: 0.9734 - val_loss: 3.8853 - val_acc: 0.5234\n"
     ]
    },
    {
     "data": {
      "text/plain": [
       "<keras.callbacks.History at 0x2933f1fa240>"
      ]
     },
     "execution_count": 8,
     "metadata": {},
     "output_type": "execute_result"
    }
   ],
   "source": [
    "model.fit(x_train, y_train, \n",
    "          epochs=EPOCHS, \n",
    "          batch_size=BATCH_SIZE, \n",
    "          validation_data=(x_test, y_test), \n",
    "          shuffle=True)"
   ]
  },
  {
   "cell_type": "code",
   "execution_count": 10,
   "metadata": {},
   "outputs": [
    {
     "data": {
      "image/png": "[encoded data removed]",
      "text/plain": [
       "<Figure size 432x288 with 1 Axes>"
      ]
     },
     "metadata": {
      "needs_background": "light"
     },
     "output_type": "display_data"
    },
    {
     "data": {
      "image/png": "[encoded data removed]",
      "text/plain": [
       "<Figure size 432x288 with 1 Axes>"
      ]
     },
     "metadata": {
      "needs_background": "light"
     },
     "output_type": "display_data"
    }
   ],
   "source": [
    "import matplotlib.pyplot as plt\n",
    "\n",
    "\n",
    "train_loss = model.history.history[\"loss\"]\n",
    "valid_loss = model.history.history[\"val_loss\"]\n",
    "\n",
    "train_acc = model.history.history[\"acc\"]\n",
    "valid_acc = model.history.history[\"val_acc\"]\n",
    "\n",
    "plt.plot(range(len(train_loss)), train_loss, label=\"train loss\")\n",
    "plt.plot(range(len(valid_loss)), valid_loss, label=\"valid loss\")\n",
    "plt.legend()\n",
    "plt.title(\"Loss\")\n",
    "plt.show()\n",
    "\n",
    "plt.plot(range(len(train_acc)), train_acc, label=\"train accuracy\")\n",
    "plt.plot(range(len(valid_acc)), valid_acc, label=\"valid accuracy\")\n",
    "plt.legend()\n",
    "plt.title(\"Accuracy\")\n",
    "plt.show()"
   ]
  },
  {
   "cell_type": "code",
   "execution_count": null,
   "metadata": {},
   "outputs": [],
   "source": []
  }
 ],
 "metadata": {
  "kernelspec": {
   "display_name": "Python 3",
   "language": "python",
   "name": "python3"
  },
  "language_info": {
   "codemirror_mode": {
    "name": "ipython",
    "version": 3
   },
   "file_extension": ".py",
   "mimetype": "text/x-python",
   "name": "python",
   "nbconvert_exporter": "python",
   "pygments_lexer": "ipython3",
   "version": "3.5.4"
  }
 },
 "nbformat": 4,
 "nbformat_minor": 2
}
