{
 "cells": [
  {
   "cell_type": "markdown",
   "metadata": {},
   "source": [
    "## Work\n",
    "1. 請嘗試寫一個 callback 用來記錄各類別在訓練過程中，對驗證集的 True Positive 與 True Negative"
   ]
  },
  {
   "cell_type": "code",
   "execution_count": 1,
   "metadata": {},
   "outputs": [
    {
     "name": "stderr",
     "output_type": "stream",
     "text": [
      "Using TensorFlow backend.\n"
     ]
    }
   ],
   "source": [
    "import os\n",
    "import keras\n",
    "\n",
    "# Disable GPU\n",
    "os.environ[\"CUDA_VISIBLE_DEVICES\"] = \"\""
   ]
  },
  {
   "cell_type": "code",
   "execution_count": 2,
   "metadata": {},
   "outputs": [],
   "source": [
    "train, test = keras.datasets.cifar10.load_data()"
   ]
  },
  {
   "cell_type": "code",
   "execution_count": 3,
   "metadata": {},
   "outputs": [],
   "source": [
    "## 資料前處理\n",
    "def preproc_x(x, flatten=True):\n",
    "    x = x / 255.\n",
    "    if flatten:\n",
    "        x = x.reshape((len(x), -1))\n",
    "    return x\n",
    "\n",
    "def preproc_y(y, num_classes=10):\n",
    "    if y.shape[-1] == 1:\n",
    "        y = keras.utils.to_categorical(y, num_classes)\n",
    "    return y    "
   ]
  },
  {
   "cell_type": "code",
   "execution_count": 4,
   "metadata": {},
   "outputs": [],
   "source": [
    "x_train, y_train = train\n",
    "x_test, y_test = test\n",
    "\n",
    "# Preproc the inputs\n",
    "x_train = preproc_x(x_train)\n",
    "x_test = preproc_x(x_test)\n",
    "\n",
    "# Preprc the outputs\n",
    "y_train = preproc_y(y_train)\n",
    "y_test = preproc_y(y_test)"
   ]
  },
  {
   "cell_type": "code",
   "execution_count": 5,
   "metadata": {},
   "outputs": [],
   "source": [
    "from keras.layers import BatchNormalization\n",
    "\n",
    "def build_mlp(input_shape, output_units=10, num_neurons=[512, 256, 128]):\n",
    "    input_layer = keras.layers.Input(input_shape)\n",
    "    \n",
    "    for i, n_units in enumerate(num_neurons):\n",
    "        if i == 0:\n",
    "            x = keras.layers.Dense(units=n_units, \n",
    "                                   activation=\"relu\", \n",
    "                                   name=\"hidden_layer\"+str(i+1))(input_layer)\n",
    "            x = BatchNormalization()(x)\n",
    "        else:\n",
    "            x = keras.layers.Dense(units=n_units, \n",
    "                                   activation=\"relu\", \n",
    "                                   name=\"hidden_layer\"+str(i+1))(x)\n",
    "            x = BatchNormalization()(x)\n",
    "    \n",
    "    out = keras.layers.Dense(units=output_units, activation=\"softmax\", name=\"output\")(x)\n",
    "    \n",
    "    model = keras.models.Model(inputs=[input_layer], outputs=[out])\n",
    "    return model"
   ]
  },
  {
   "cell_type": "code",
   "execution_count": 6,
   "metadata": {},
   "outputs": [],
   "source": [
    "## 超參數設定\n",
    "LEARNING_RATE = 1e-3\n",
    "EPOCHS = 25\n",
    "BATCH_SIZE = 1024\n",
    "MOMENTUM = 0.95"
   ]
  },
  {
   "cell_type": "code",
   "execution_count": 7,
   "metadata": {},
   "outputs": [],
   "source": [
    "# 載入 Callbacks\n",
    "from keras.callbacks import Callback\n",
    "from sklearn.metrics import confusion_matrix\n",
    "\n",
    "# Record_fp_tp\n",
    "class Record_tp_tn(Callback):\n",
    "    \"\"\"Code Here\n",
    "    撰寫一個紀錄 ture positive 與 true negative 數量的 callbacks    \n",
    "    \"\"\"\n",
    "    def on_train_begin(self, epoch, logs = {}):\n",
    "        logs = logs or {}\n",
    "        record_items = [\"val_auc\", \"val_f1sc\", \"val_fp\", \"val_fn\", \"val_tp\", \"val_tn\"]\n",
    "        for i in record_items:\n",
    "            if i not in self.params['metrics']:\n",
    "                self.params['metrics'].append(i)\n",
    "    \n",
    "    def on_epoch_end(self, epoch, logs = {}, thres=0.5):\n",
    "        logs = logs or {}        \n",
    "        y_true = self.validation_data[1].argmax(axis = 1)\n",
    "        y_pred = self.model.predict(self.validation_data[0])\n",
    "        y_pred = (y_pred[:, 1] >= thres) * 1\n",
    "        \n",
    "        conf_matrix = confusion_matrix(y_true=y_true, y_pred=y_pred)\n",
    "        logs[\"val_tp\"] = conf_matrix[1,1]\n",
    "        logs[\"val_tn\"] = conf_matrix[0,0]\n",
    "\n",
    "rec_tptn = Record_tp_tn()"
   ]
  },
  {
   "cell_type": "code",
   "execution_count": 8,
   "metadata": {
    "scrolled": true
   },
   "outputs": [
    {
     "name": "stdout",
     "output_type": "stream",
     "text": [
      "_________________________________________________________________\n",
      "Layer (type)                 Output Shape              Param #   \n",
      "=================================================================\n",
      "input_1 (InputLayer)         (None, 3072)              0         \n",
      "_________________________________________________________________\n",
      "hidden_layer1 (Dense)        (None, 512)               1573376   \n",
      "_________________________________________________________________\n",
      "batch_normalization_1 (Batch (None, 512)               2048      \n",
      "_________________________________________________________________\n",
      "hidden_layer2 (Dense)        (None, 256)               131328    \n",
      "_________________________________________________________________\n",
      "batch_normalization_2 (Batch (None, 256)               1024      \n",
      "_________________________________________________________________\n",
      "hidden_layer3 (Dense)        (None, 128)               32896     \n",
      "_________________________________________________________________\n",
      "batch_normalization_3 (Batch (None, 128)               512       \n",
      "_________________________________________________________________\n",
      "output (Dense)               (None, 10)                1290      \n",
      "=================================================================\n",
      "Total params: 1,742,474\n",
      "Trainable params: 1,740,682\n",
      "Non-trainable params: 1,792\n",
      "_________________________________________________________________\n",
      "Train on 50000 samples, validate on 10000 samples\n",
      "Epoch 1/25\n",
      "50000/50000 [==============================] - 4s 85us/step - loss: 2.2284 - acc: 0.2658 - val_loss: 2.1761 - val_acc: 0.3135\n",
      "Epoch 2/25\n",
      "50000/50000 [==============================] - 2s 39us/step - loss: 1.7520 - acc: 0.3875 - val_loss: 1.8119 - val_acc: 0.3858\n",
      "Epoch 3/25\n",
      "50000/50000 [==============================] - 2s 42us/step - loss: 1.6220 - acc: 0.4315 - val_loss: 1.7043 - val_acc: 0.4047\n",
      "Epoch 4/25\n",
      "50000/50000 [==============================] - 2s 39us/step - loss: 1.5508 - acc: 0.4586 - val_loss: 1.6385 - val_acc: 0.4292\n",
      "Epoch 5/25\n",
      "50000/50000 [==============================] - 2s 40us/step - loss: 1.4935 - acc: 0.4763 - val_loss: 1.6014 - val_acc: 0.4451\n",
      "Epoch 6/25\n",
      "50000/50000 [==============================] - 2s 39us/step - loss: 1.4484 - acc: 0.4940 - val_loss: 1.5773 - val_acc: 0.4463\n",
      "Epoch 7/25\n",
      "50000/50000 [==============================] - 2s 41us/step - loss: 1.4078 - acc: 0.5080 - val_loss: 1.5628 - val_acc: 0.4437\n",
      "Epoch 8/25\n",
      "50000/50000 [==============================] - 2s 41us/step - loss: 1.3728 - acc: 0.5202 - val_loss: 1.5356 - val_acc: 0.4593\n",
      "Epoch 9/25\n",
      "50000/50000 [==============================] - 2s 38us/step - loss: 1.3414 - acc: 0.5327 - val_loss: 1.5194 - val_acc: 0.4628\n",
      "Epoch 10/25\n",
      "50000/50000 [==============================] - 2s 39us/step - loss: 1.3109 - acc: 0.5441 - val_loss: 1.5124 - val_acc: 0.4641\n",
      "Epoch 11/25\n",
      "50000/50000 [==============================] - 2s 39us/step - loss: 1.2824 - acc: 0.5550 - val_loss: 1.5028 - val_acc: 0.4729\n",
      "Epoch 12/25\n",
      "50000/50000 [==============================] - 2s 42us/step - loss: 1.2554 - acc: 0.5642 - val_loss: 1.4858 - val_acc: 0.4788\n",
      "Epoch 13/25\n",
      "50000/50000 [==============================] - 2s 46us/step - loss: 1.2301 - acc: 0.5746 - val_loss: 1.4853 - val_acc: 0.4809\n",
      "Epoch 14/25\n",
      "50000/50000 [==============================] - 2s 41us/step - loss: 1.2047 - acc: 0.5827 - val_loss: 1.4784 - val_acc: 0.4833\n",
      "Epoch 15/25\n",
      "50000/50000 [==============================] - 2s 42us/step - loss: 1.1815 - acc: 0.5922 - val_loss: 1.4727 - val_acc: 0.4845\n",
      "Epoch 16/25\n",
      "50000/50000 [==============================] - 2s 41us/step - loss: 1.1573 - acc: 0.5999 - val_loss: 1.4710 - val_acc: 0.4835\n",
      "Epoch 17/25\n",
      "50000/50000 [==============================] - 2s 47us/step - loss: 1.1334 - acc: 0.6105 - val_loss: 1.4744 - val_acc: 0.4820\n",
      "Epoch 18/25\n",
      "50000/50000 [==============================] - 2s 40us/step - loss: 1.1116 - acc: 0.6186 - val_loss: 1.4722 - val_acc: 0.4880\n",
      "Epoch 19/25\n",
      "50000/50000 [==============================] - 2s 44us/step - loss: 1.0879 - acc: 0.6283 - val_loss: 1.4742 - val_acc: 0.4868\n",
      "Epoch 20/25\n",
      "50000/50000 [==============================] - 2s 42us/step - loss: 1.0679 - acc: 0.6359 - val_loss: 1.4595 - val_acc: 0.4914\n",
      "Epoch 21/25\n",
      "50000/50000 [==============================] - 2s 50us/step - loss: 1.0458 - acc: 0.6431 - val_loss: 1.4710 - val_acc: 0.4940\n",
      "Epoch 22/25\n",
      "50000/50000 [==============================] - 2s 45us/step - loss: 1.0238 - acc: 0.6509 - val_loss: 1.4786 - val_acc: 0.4919\n",
      "Epoch 23/25\n",
      "50000/50000 [==============================] - 2s 40us/step - loss: 1.0035 - acc: 0.6587 - val_loss: 1.4678 - val_acc: 0.4921\n",
      "Epoch 24/25\n",
      "50000/50000 [==============================] - 2s 38us/step - loss: 0.9810 - acc: 0.6708 - val_loss: 1.4778 - val_acc: 0.4969\n",
      "Epoch 25/25\n",
      "50000/50000 [==============================] - 2s 42us/step - loss: 0.9596 - acc: 0.6769 - val_loss: 1.4751 - val_acc: 0.4954\n"
     ]
    }
   ],
   "source": [
    "model = build_mlp(input_shape=x_train.shape[1:])\n",
    "model.summary()\n",
    "optimizer = keras.optimizers.SGD(lr=LEARNING_RATE, nesterov=True, momentum=MOMENTUM)\n",
    "model.compile(loss=\"categorical_crossentropy\", metrics=[\"accuracy\"], optimizer=optimizer)\n",
    "\n",
    "\"\"\"Code Here\n",
    "將 callbacks 放入模型訓練流程中\n",
    "\"\"\"\n",
    "model.fit(x_train, y_train, \n",
    "          epochs=EPOCHS, \n",
    "          batch_size=BATCH_SIZE, \n",
    "          validation_data=(x_test, y_test), \n",
    "          shuffle=True,\n",
    "          callbacks=[rec_tptn]\n",
    "         )\n",
    "\n",
    "# Collect results\n",
    "train_loss = model.history.history[\"loss\"]\n",
    "valid_loss = model.history.history[\"val_loss\"]\n",
    "train_acc = model.history.history[\"acc\"]\n",
    "valid_acc = model.history.history[\"val_acc\"]\n"
   ]
  },
  {
   "cell_type": "code",
   "execution_count": 9,
   "metadata": {},
   "outputs": [],
   "source": [
    "\"\"\"Code Here\n",
    "將 tp/tn 從訓練完的模型中取出\n",
    "\"\"\"\n",
    "valid_tp = model.history.history['val_tp']\n",
    "valid_tn = model.history.history['val_tn']"
   ]
  },
  {
   "cell_type": "code",
   "execution_count": 10,
   "metadata": {},
   "outputs": [
    {
     "data": {
      "image/png": "[encoded data removed]",
      "text/plain": [
       "<Figure size 432x288 with 1 Axes>"
      ]
     },
     "metadata": {
      "needs_background": "light"
     },
     "output_type": "display_data"
    },
    {
     "data": {
      "image/png": "[encoded data removed]",
      "text/plain": [
       "<Figure size 432x288 with 1 Axes>"
      ]
     },
     "metadata": {
      "needs_background": "light"
     },
     "output_type": "display_data"
    },
    {
     "data": {
      "image/png": "[encoded data removed]",
      "text/plain": [
       "<Figure size 432x288 with 1 Axes>"
      ]
     },
     "metadata": {
      "needs_background": "light"
     },
     "output_type": "display_data"
    }
   ],
   "source": [
    "import matplotlib.pyplot as plt\n",
    "%matplotlib inline\n",
    "\n",
    "plt.plot(range(len(train_loss)), train_loss, label=\"train loss\")\n",
    "plt.plot(range(len(valid_loss)), valid_loss, label=\"valid loss\")\n",
    "plt.legend()\n",
    "plt.title(\"Loss\")\n",
    "plt.show()\n",
    "\n",
    "plt.plot(range(len(train_acc)), train_acc, label=\"train accuracy\")\n",
    "plt.plot(range(len(valid_acc)), valid_acc, label=\"valid accuracy\")\n",
    "plt.legend()\n",
    "plt.title(\"Accuracy\")\n",
    "plt.show()\n",
    "\n",
    "plt.plot(range(len(valid_tp)), valid_tp, label=\"valid tp\", color=\"navy\")\n",
    "plt.plot(range(len(valid_tn)), valid_tn, label=\"valid tn\", color=\"red\")\n",
    "plt.legend()\n",
    "plt.title(\"True positives and True Negatives\")\n",
    "plt.show()\n"
   ]
  },
  {
   "cell_type": "code",
   "execution_count": null,
   "metadata": {},
   "outputs": [],
   "source": []
  }
 ],
 "metadata": {
  "kernelspec": {
   "display_name": "Python 3",
   "language": "python",
   "name": "python3"
  },
  "language_info": {
   "codemirror_mode": {
    "name": "ipython",
    "version": 3
   },
   "file_extension": ".py",
   "mimetype": "text/x-python",
   "name": "python",
   "nbconvert_exporter": "python",
   "pygments_lexer": "ipython3",
   "version": "3.5.4"
  }
 },
 "nbformat": 4,
 "nbformat_minor": 2
}
