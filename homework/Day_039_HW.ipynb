{
 "cells": [
  {
   "cell_type": "markdown",
   "metadata": {},
   "source": [
    "## [作業重點]\n",
    "清楚了解 L1, L2 的意義與差異為何，並了解 LASSO 與 Ridge 之間的差異與使用情境"
   ]
  },
  {
   "cell_type": "markdown",
   "metadata": {},
   "source": [
    "## 作業"
   ]
  },
  {
   "cell_type": "markdown",
   "metadata": {},
   "source": [
    "請閱讀相關文獻，並回答下列問題\n",
    "\n",
    "[脊回歸 (Ridge Regression)](https://blog.csdn.net/daunxx/article/details/51578787)\n",
    "[Linear, Ridge, Lasso Regression 本質區別](https://www.zhihu.com/question/38121173)\n",
    "\n",
    "1. LASSO 回歸可以被用來作為 Feature selection 的工具，請了解 LASSO 模型為什麼可用來作 Feature selection\n",
    "    \n",
    "    Ans : LASSO 在求極值的過程中，會限制回歸項係數的，並會對於影響目標變量較小的係數變成0，因此可以利用LASSO 進行 feature selection\n",
    "         \n",
    "         https://pic3.zhimg.com/80/v2-2a88e2acc009fa4de3edeb51e683ca02_hd.jpg\n",
    "         \n",
    "2. 當自變數 (X) 存在高度共線性時，Ridge Regression 可以處理這樣的問題嗎?\n",
    "    \n",
    "    Ans : 可以。\n",
    "    \n",
    "   http://dasanlin888.pixnet.net/blog/post/442485077-%E5%88%A9%E7%94%A8ncss%E7%9A%84%E8%84%8A%E8%BF%B4%E6%AD%B8%EF%BC%88ridge-regression%EF%BC%89%E8%A7%A3%E9%87%8B%E5%A4%9A%E5%85%83%E5%85%B1\n",
    "    \n",
    "    脊迴歸是一種修改最小平方法，允許有偏估計量，進而改善多元共線性的方法，一個簡單易懂的圖示如下（假設真實值為β，不偏估計式所求得統計量為b，有偏估計式所求得統計量為bR），估計量b雖然不偏，但因為標準誤較大，因此估計結果較不精確，此時我們會傾向選擇有偏估計量bR，雖然有偏誤，但bR落在真實值β的機率會高於不偏估計量b。\n",
    "    "
   ]
  },
  {
   "cell_type": "code",
   "execution_count": null,
   "metadata": {},
   "outputs": [],
   "source": []
  }
 ],
 "metadata": {
  "kernelspec": {
   "display_name": "Python 3",
   "language": "python",
   "name": "python3"
  },
  "language_info": {
   "codemirror_mode": {
    "name": "ipython",
    "version": 3
   },
   "file_extension": ".py",
   "mimetype": "text/x-python",
   "name": "python",
   "nbconvert_exporter": "python",
   "pygments_lexer": "ipython3",
   "version": "3.5.4"
  }
 },
 "nbformat": 4,
 "nbformat_minor": 2
}
