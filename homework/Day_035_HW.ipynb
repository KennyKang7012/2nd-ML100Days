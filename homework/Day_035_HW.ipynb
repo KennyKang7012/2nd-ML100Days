{
 "cells": [
  {
   "cell_type": "markdown",
   "metadata": {},
   "source": [
    "## 練習時間\n",
    "相信大家對回歸問題及分類問題都有初步的了解。今天的作業希望大家搜尋有關 multi-label 的案例問題。下圖是電影 \"奇異博士\" 的分類。可以看到同時有 \"Action\", \"Adventure\", \"Fantasy\" 的類別存在，代表這是個多標籤的問題。 "
   ]
  },
  {
   "cell_type": "markdown",
   "metadata": {},
   "source": [
    "![image](https://cdn-images-1.medium.com/max/1000/1*r0gYXMSQf5VhdMyl2bRDyg.png)"
   ]
  },
  {
   "cell_type": "markdown",
   "metadata": {},
   "source": [
    "## 請搜尋目標為多標籤問題 (Multi-label) 的機器學習案例，了解其資料來源、目標以及評估指標為何\n",
    "## Hint: 服飾\n",
    "    參考網站 :　https://www.pyimagesearch.com/2018/05/07/multi-label-classification-with-keras/\n",
    "    1.資料來源 : Switaj : I’m building an image fashion search engine and need help.\n",
    "        Our dataset consists of 2,167 images across six categories, including:\n",
    "        Black jeans (344 images)\n",
    "        Blue dress (386 images)\n",
    "        Blue jeans (356 images)\n",
    "        Blue shirt (369 images)\n",
    "        Red dress (380 images)\n",
    "        Red shirt (332 images)\n",
    "    2.目標 : \n",
    "        The problem is that I need to train a classifier to categorize the items into various classes:\n",
    "        2-1. Clothing type: Shirts, dresses, pants, shoes, etc.\n",
    "        2-2. Color: Red, blue, green, black, etc.\n",
    "        2-3. Texture/appearance: Cotton, wool, silk, tweed, etc.\n",
    "        I’ve trained three separate CNNs for each of the three categories and they work really well.\n",
    "        problem -> Is there a way to combine the three CNNs into a single network? Or at least train a single network to complete all three classification tasks?\n",
    "    3.評估指標 : Predict both the Color and the type of Clothing."
   ]
  },
  {
   "cell_type": "code",
   "execution_count": null,
   "metadata": {},
   "outputs": [],
   "source": []
  }
 ],
 "metadata": {
  "kernelspec": {
   "display_name": "Python 3",
   "language": "python",
   "name": "python3"
  },
  "language_info": {
   "codemirror_mode": {
    "name": "ipython",
    "version": 3
   },
   "file_extension": ".py",
   "mimetype": "text/x-python",
   "name": "python",
   "nbconvert_exporter": "python",
   "pygments_lexer": "ipython3",
   "version": "3.5.4"
  }
 },
 "nbformat": 4,
 "nbformat_minor": 2
}
