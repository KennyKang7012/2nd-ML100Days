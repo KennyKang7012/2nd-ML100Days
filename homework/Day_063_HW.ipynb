{
 "cells": [
  {
   "cell_type": "markdown",
   "metadata": {},
   "source": [
    "# 作業\n",
    "* 在精簡深度學習的方式上 : 卷積類神經 (CNN) 採用像素遠近，而遞歸類神經 (RNN) 採用著則是時間遠近\n",
    "* 那麼，既然有著類似的設計精神，兩者是否有可能互換應用呢?"
   ]
  },
  {
   "cell_type": "markdown",
   "metadata": {
    "collapsed": true
   },
   "source": [
    "Ans:\n",
    "可以，參考網路資料 https://ithelp.ithome.com.tw/articles/10205172\n",
    "\n",
    "1.RNN特徵提取用於CNN內容/影片分類\n",
    "    \n",
    "    使用RNN辨識圖片內的物件，CNN再依照這些特徵進行分類模型訓練\n",
    "    \n",
    "2.CNN特徵提取用於對話問答圖片問答\n",
    "\n",
    "    辨識圖片/影像物件位置\n",
    "    2.1. CNN直接產生目標候選區\n",
    "    2.2. LSTM對產生候選區融合\n",
    "    2.3. 確定最終的精確位置"
   ]
  },
  {
   "cell_type": "code",
   "execution_count": null,
   "metadata": {},
   "outputs": [],
   "source": []
  }
 ],
 "metadata": {
  "kernelspec": {
   "display_name": "Python 3",
   "language": "python",
   "name": "python3"
  },
  "language_info": {
   "codemirror_mode": {
    "name": "ipython",
    "version": 3
   },
   "file_extension": ".py",
   "mimetype": "text/x-python",
   "name": "python",
   "nbconvert_exporter": "python",
   "pygments_lexer": "ipython3",
   "version": "3.5.4"
  }
 },
 "nbformat": 4,
 "nbformat_minor": 2
}
